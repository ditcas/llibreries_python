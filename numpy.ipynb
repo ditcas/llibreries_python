{
 "cells": [
  {
   "cell_type": "code",
   "execution_count": 3,
   "metadata": {},
   "outputs": [],
   "source": [
    "import numpy as np"
   ]
  },
  {
   "cell_type": "markdown",
   "metadata": {},
   "source": [
    "# ndarray - N-dimensional array object\n",
    "\n",
    "- All of the elements must be the same type"
   ]
  },
  {
   "cell_type": "markdown",
   "metadata": {},
   "source": [
    "## Característiques: dimension, shape, dtype"
   ]
  },
  {
   "cell_type": "code",
   "execution_count": 7,
   "metadata": {},
   "outputs": [
    {
     "name": "stdout",
     "output_type": "stream",
     "text": [
      "[[[ 1.   2.   3.   4. ]\n",
      "  [ 5.4  6.   7.   8. ]]\n",
      "\n",
      " [[ 9.  10.  11.  12. ]\n",
      "  [13.  14.  15.  16. ]]]\n",
      "3\n",
      "(2, 2, 4)\n",
      "float64\n",
      "[[[ 1  2  3  4]\n",
      "  [ 5  6  7  8]]\n",
      "\n",
      " [[ 9 10 11 12]\n",
      "  [13 14 15 16]]]\n",
      "[[[ 1  2  3  4]\n",
      "  [ 5  6  7  8]]\n",
      "\n",
      " [[ 9 10 11 12]\n",
      "  [13 14 15 16]]]\n"
     ]
    }
   ],
   "source": [
    "# De llista a array\n",
    "\n",
    "llista = [[[1, 2, 3, 4], [5.4, 6, 7, 8]], [[9, 10, 11, 12], [13, 14, 15, 16]]]\n",
    "\n",
    "arr = np.array(llista)\n",
    "\n",
    "print(arr) # tots seran floats perquè n'hi havia un i tots han de tenir el mateix type\n",
    "\n",
    "print(arr.ndim) # 3 dimensions. Profunditat, files, columnes\n",
    "print(arr.shape) # 2 matrius Profunditat, 2 files, 4 columnes\n",
    "print(arr.dtype) # són floats\n",
    "\n",
    "# Forçar el type dels elements\n",
    "arr2 = np.array(llista, dtype=np.int64) # Els decimals els trunca\n",
    "print(arr2)\n",
    "\n",
    "# Convertir el tipus d'un array. Sempre crea un NOU array, una còpia de l'anterior canviant el tipus.\n",
    "arr22 = arr.astype(np.int64) # De arr type float a arr22 type int\n",
    "print(arr22)"
   ]
  },
  {
   "cell_type": "markdown",
   "metadata": {},
   "source": [
    "## Creació"
   ]
  },
  {
   "cell_type": "code",
   "execution_count": 23,
   "metadata": {},
   "outputs": [
    {
     "name": "stdout",
     "output_type": "stream",
     "text": [
      "[[-0.05017251 -0.25432579  0.35146367]\n",
      " [ 0.41811518 -0.45651343  1.42206112]]\n",
      "[0. 0. 0.]\n",
      "[[1. 1.]]\n",
      "[[[0.05017251 0.25432579 0.35146367]]\n",
      "\n",
      " [[0.41811518 0.45651343 1.42206112]]]\n",
      "[ 0  1  2  3  4  5  6  7  8  9 10 11 12 13 14]\n",
      "[[0 1]\n",
      " [2 3]\n",
      " [4 5]\n",
      " [6 7]]\n",
      "[[1. 0. 0.]\n",
      " [0. 1. 0.]\n",
      " [0. 0. 1.]]\n"
     ]
    }
   ],
   "source": [
    "# Crear array amb valors random seguint distribució normal mean 0, standard deviation 1.\n",
    "data = np.random.randn(2,3)\n",
    "print(data)\n",
    "# np.random.binomial\n",
    "# np.random.uniform\n",
    "# np.random.randint ...\n",
    "\n",
    "# Crear array de zeros o uns\n",
    "zeros = np.zeros(3) # 1 fila, 3 columnes\n",
    "print(zeros)\n",
    "uns = np.ones((1,2))\n",
    "print(uns)\n",
    "\n",
    "# Crear array amb valors qualsevol, sense inicialitzar. De vegades són zeros, a vegades no.\n",
    "garbage = np.empty((2,1,3))\n",
    "print(garbage)\n",
    "\n",
    "# Crear array similar a funció range\n",
    "num = np.arange(15)\n",
    "print(num)\n",
    "num2 = np.arange(8).reshape((4, 2)) # del 0 al 7 en 4 files i 2 columnes.\n",
    "print(num2)\n",
    "\n",
    "identitat = np.identity(3) # matriu identitat 3x3\n",
    "print(identitat)"
   ]
  },
  {
   "cell_type": "markdown",
   "metadata": {},
   "source": [
    "## Operacions amb arrays (vectorization)\n",
    "\n",
    "- Com operacions amb matrius.\n",
    "- Cal que tinguin la mateixa dimensió.\n",
    "- Cuando operamos entre arrays con dimensiones diferentes, siempre y cuando se cumplan ciertas restricciones en tamaños de filas y/o columnas, lo que se produce es un «broadcasting» (o difusión) de los valores."
   ]
  },
  {
   "cell_type": "code",
   "execution_count": 59,
   "metadata": {},
   "outputs": [
    {
     "name": "stdout",
     "output_type": "stream",
     "text": [
      "[[ 8  3 12]\n",
      " [14 16 18]]\n",
      "[[0 0 0]\n",
      " [0 0 0]]\n",
      "[[ 1  4  9]\n",
      " [16 25 36]]\n",
      "[[1.         0.5        0.33333333]\n",
      " [0.25       0.2        0.16666667]]\n",
      "[[ True False  True]\n",
      " [ True  True  True]]\n"
     ]
    }
   ],
   "source": [
    "arr = np.array([[1, 2, 3], [4, 5, 6]])\n",
    "arr2 = np.array([[7, 1, 9], [10, 11, 12]])\n",
    "\n",
    "print(arr + arr2)\n",
    "print(arr - arr)\n",
    "print(arr ** 2)\n",
    "print(1/arr)\n",
    "print(arr2 > arr)"
   ]
  },
  {
   "cell_type": "code",
   "execution_count": 54,
   "metadata": {},
   "outputs": [
    {
     "name": "stdout",
     "output_type": "stream",
     "text": [
      "[[11 11  7]\n",
      " [ 9  9 13]]\n",
      "[[10  9  2]\n",
      " [13 12 13]]\n"
     ]
    }
   ],
   "source": [
    "# broadcasting\n",
    "\n",
    "m23 = np.array([[9, 8, 1], [7, 6, 7]])\n",
    "m13 = np.array([2, 3, 6])\n",
    "m21 = np.array([[1], [6]])\n",
    "\n",
    "print(m23 + m13) # Suma la fila de m13 a les dues files de m23\n",
    "print(m23 + m21) # Suma la columna de m21 a les 3 columnes de m23"
   ]
  },
  {
   "cell_type": "markdown",
   "metadata": {},
   "source": [
    "## Indexing and slicing\n",
    "\n",
    "- Array slices are VIEWS on the original array. This means that data is not copied, and ANY MODIFICATIONS TO THE VIEW WILL BE REFLECTED IN THE SOURCE ARRAY."
   ]
  },
  {
   "cell_type": "code",
   "execution_count": 79,
   "metadata": {},
   "outputs": [
    {
     "name": "stdout",
     "output_type": "stream",
     "text": [
      "l'array és: [0 1 2 3 4 5 6 7 8 9]\n",
      "l'element 2: 2\n",
      "secció de l'array: [5 6 7]\n",
      "[12 12 12]\n",
      "[ 0  1  2  3  4 12 12 12  8  9]\n"
     ]
    }
   ],
   "source": [
    "arr = np.arange(10)\n",
    "print(\"l'array és:\", arr)\n",
    "\n",
    "# Seleccionar un element\n",
    "print(\"l'element 2:\", arr[2])\n",
    "\n",
    "# Seleccionar un slice\n",
    "print(\"secció de l'array:\", arr[5:8]) # l'element 5, 6 i 7, començant a contar per 0.\n",
    "\n",
    "# Modificar elements\n",
    "arr_slice = arr[5:8]\n",
    "arr_slice[:] = 12\n",
    "print(arr_slice)\n",
    "print(arr)"
   ]
  },
  {
   "cell_type": "code",
   "execution_count": 97,
   "metadata": {},
   "outputs": [
    {
     "name": "stdout",
     "output_type": "stream",
     "text": [
      "[1 2 3]\n",
      "4\n",
      "[3 6 9]\n",
      "[[2 3]\n",
      " [5 6]]\n"
     ]
    }
   ],
   "source": [
    "arr2d = np.array([[1, 2, 3], [4, 5, 6], [7, 8, 9]])\n",
    "\n",
    "# Seleccionar una fila\n",
    "print(arr2d[0])\n",
    "\n",
    "# Seleccionar un element. [fila, columna]\n",
    "print(arr2d[1, 0])\n",
    "# print(arr2d[1][0]) equivalent\n",
    "\n",
    "# Seleccionar files i columnes concretes\n",
    "print(arr2d[:, 2]) # de totes les files, la columna 2\n",
    "print(arr2d[:2, 1:]) # files 0 i 1 i columnes 1 i 2\n"
   ]
  },
  {
   "cell_type": "code",
   "execution_count": 99,
   "metadata": {},
   "outputs": [
    {
     "name": "stdout",
     "output_type": "stream",
     "text": [
      "[[1 2 3]\n",
      " [4 5 6]]\n",
      "[4 5 6]\n",
      "6\n",
      "[[1 2]\n",
      " [4 5]]\n"
     ]
    }
   ],
   "source": [
    "arr3d = np.array([[[1, 2, 3], [4, 5, 6]], [[7, 8, 9], [10, 11, 12]]])\n",
    "\n",
    "# Seleccionar una matriu, una profunditat\n",
    "print(arr3d[0])\n",
    "\n",
    "# Seleccionar una fila d'una matriu\n",
    "print(arr3d[0, 1])\n",
    "\n",
    "# Seleccionar un element [profunditat, fila, columna]\n",
    "print(arr3d[0, 1, 2])\n",
    "\n",
    "# Seleccionar files i columnes concretes\n",
    "print(arr3d[0, : , 0:2]) # De la matriu 0, de totes les files, la columna 0 i 1."
   ]
  },
  {
   "cell_type": "markdown",
   "metadata": {},
   "source": [
    "## Boolean indexing\n",
    "\n",
    "- Copies the data into a new array\n",
    "- These types of operations on two-dimensional data are convenient to do with PANDAS."
   ]
  },
  {
   "cell_type": "code",
   "execution_count": 19,
   "metadata": {},
   "outputs": [
    {
     "name": "stdout",
     "output_type": "stream",
     "text": [
      "[[-2.24877612  1.34463917 -0.31275184  1.09728874]\n",
      " [-0.37101147  1.06814552  0.35812087 -1.51198406]\n",
      " [ 0.88091542  0.80867549 -0.24648401 -0.40142589]\n",
      " [-0.22785245  0.45574731 -0.18669199  1.92918646]\n",
      " [-0.14211232 -1.87673285  0.5517759   0.31644977]\n",
      " [ 0.40997769 -0.57666088 -2.22441673  0.58946659]\n",
      " [ 0.13141444  1.55849358 -0.09934236 -0.63033757]]\n",
      "[ True False False  True False False False]\n",
      "[[-0.37101147  1.06814552  0.35812087 -1.51198406]\n",
      " [ 0.88091542  0.80867549 -0.24648401 -0.40142589]\n",
      " [-0.14211232 -1.87673285  0.5517759   0.31644977]\n",
      " [ 0.40997769 -0.57666088 -2.22441673  0.58946659]\n",
      " [ 0.13141444  1.55849358 -0.09934236 -0.63033757]]\n",
      "[ True False  True  True  True False False]\n",
      "[[-2.24877612  1.34463917 -0.31275184  1.09728874]\n",
      " [ 0.88091542  0.80867549 -0.24648401 -0.40142589]\n",
      " [-0.22785245  0.45574731 -0.18669199  1.92918646]\n",
      " [-0.14211232 -1.87673285  0.5517759   0.31644977]]\n",
      "[[0.         1.34463917 0.         1.09728874]\n",
      " [0.         1.06814552 0.35812087 0.        ]\n",
      " [0.88091542 0.80867549 0.         0.        ]\n",
      " [0.         0.45574731 0.         1.92918646]\n",
      " [0.         0.         0.5517759  0.31644977]\n",
      " [0.40997769 0.         0.         0.58946659]\n",
      " [0.13141444 1.55849358 0.         0.        ]]\n"
     ]
    }
   ],
   "source": [
    "names = np.array([\"Bob\", \"Joe\", \"Will\", \"Bob\", \"Will\", \"Joe\", \"Joe\"]) # 1 fila x 7 columnes\n",
    "data = np.random.randn(7, 4) # 7 files x 4 columnes\n",
    "print(data)\n",
    "\n",
    "print(names == \"Bob\")\n",
    "\n",
    "# print(data[names == \"Bob\"]) # Les files que tenen element True, és a dir, corresponen a name Bob\n",
    "print(data[~(names == \"Bob\")]) # Les files que tenen element False, és a dir, NO corresponen a name Bob\n",
    "# print(data[names == \"Bob\", 3]) # Les files que tenen element True, només la columna 3\n",
    "# Es poden usar condicions booleanes, com & (and) i | (or)\n",
    "\n",
    "cond = (names == \"Bob\") | (names == \"Will\")\n",
    "print(cond)\n",
    "print(data[cond])\n",
    "\n",
    "# Assignar valors amb boolean arrays\n",
    "data[data < 0] = 0\n",
    "print(data)\n"
   ]
  },
  {
   "cell_type": "markdown",
   "metadata": {},
   "source": [
    "# Fancy indexing\n",
    "\n",
    "- indexing using integer arrays\n",
    "- Copies the data into a new array"
   ]
  },
  {
   "cell_type": "code",
   "execution_count": 25,
   "metadata": {},
   "outputs": [
    {
     "name": "stdout",
     "output_type": "stream",
     "text": [
      "[[0. 0. 0. 0.]\n",
      " [1. 1. 1. 1.]\n",
      " [2. 2. 2. 2.]\n",
      " [3. 3. 3. 3.]\n",
      " [4. 4. 4. 4.]\n",
      " [5. 5. 5. 5.]\n",
      " [6. 6. 6. 6.]\n",
      " [7. 7. 7. 7.]]\n",
      "[[ 0  1  2  3]\n",
      " [ 4  5  6  7]\n",
      " [ 8  9 10 11]\n",
      " [12 13 14 15]\n",
      " [16 17 18 19]\n",
      " [20 21 22 23]\n",
      " [24 25 26 27]\n",
      " [28 29 30 31]]\n"
     ]
    },
    {
     "data": {
      "text/plain": [
       "array([[ 4,  7,  5],\n",
       "       [20, 23, 21],\n",
       "       [28, 31, 29]])"
      ]
     },
     "execution_count": 25,
     "metadata": {},
     "output_type": "execute_result"
    }
   ],
   "source": [
    "arr = np.empty((8, 4))\n",
    "for i in range(8) :\n",
    "    arr[i] = i\n",
    "print(arr)\n",
    "\n",
    "# Seleccionar i mostrar files en cert ordre\n",
    "\n",
    "arr[[4, 3, 0]] # fila 4, fila 3, fila 0\n",
    "arr[[-3, -5]] # fila 5, fila 3\n",
    "\n",
    "arr2 = np.arange(32).reshape((8,4))\n",
    "print(arr2)\n",
    "arr2[[1, 5, 7],[0, 3, 1]] # Elements (1,0), (5,3) i (7,1)\n",
    "arr2[[1, 5, 7]][ : , [0, 3, 1]] # Les files 1, 5 i 7 i les columnes d'aquestes en ordre 0, 3 i 1."
   ]
  },
  {
   "cell_type": "markdown",
   "metadata": {},
   "source": [
    "# Transposing arrays and swapping axes\n",
    "\n",
    "- Returns a view, not a copy. La dimensió de l'array original no es modifica (transposar només és una manera diferent de visualitzar l'array), però si del transposat canviem un element, es canviarà també en l'array original!"
   ]
  },
  {
   "cell_type": "code",
   "execution_count": 62,
   "metadata": {},
   "outputs": [
    {
     "name": "stdout",
     "output_type": "stream",
     "text": [
      "[[ 0  5 10]\n",
      " [ 1  6 11]\n",
      " [ 2  7 12]\n",
      " [ 3  8 13]\n",
      " [ 4  9 14]]\n",
      "[[ 6  5 10]\n",
      " [ 1  6 11]\n",
      " [ 2  7 12]\n",
      " [ 3  8 13]\n",
      " [ 4  9 14]]\n",
      "[[ 6  1  2  3  4]\n",
      " [ 5  6  7  8  9]\n",
      " [10 11 12 13 14]]\n"
     ]
    }
   ],
   "source": [
    "arr = np.arange(15).reshape((3,5))\n",
    "\n",
    "tr = arr.T # transposar la matriu, per array de fins dimensió 2\n",
    "print(tr)\n",
    "\n",
    "# Si modifico un element de tr es canviarà també en arr. \n",
    "tr[0, 0] = 6\n",
    "print(tr)\n",
    "print(arr) # Segueix sent 3x5 però l'element 0,0 és ara un 6."
   ]
  },
  {
   "cell_type": "code",
   "execution_count": 64,
   "metadata": {},
   "outputs": [
    {
     "name": "stdout",
     "output_type": "stream",
     "text": [
      "[[[ 0  1  2  3]\n",
      "  [ 8  9 10 11]]\n",
      "\n",
      " [[ 4  5  6  7]\n",
      "  [12 13 14 15]]]\n"
     ]
    },
    {
     "data": {
      "text/plain": [
       "'\\n1,1,1 passa a 1,1,1\\n...\\n1,1,4 passa a 1,1,4\\n1,2,1 passa a 2,1,1\\n...\\n1,2,4 passa a 2,1,4\\n2,1,1 passa a 1,2,1\\n...\\n2,1,4 passa a 1,2,4\\n2,2,1 passa a 2,2,1\\n...\\n2,2,4 passa a 2,2,4\\n'"
      ]
     },
     "execution_count": 64,
     "metadata": {},
     "output_type": "execute_result"
    }
   ],
   "source": [
    "# per dimensions > 2\n",
    "\n",
    "arr3 = np.arange(16).reshape((2, 2, 4))\n",
    "\n",
    "print(arr3.transpose((1, 0, 2))) # element (prof,fila,col) passa a posició (fila,prof,col). \n",
    "# per intercanviar dos axis, és equivalent\n",
    "# arr3.swapaxes(0,1)\n",
    "\n",
    "\"\"\"\n",
    "1,1,1 passa a 1,1,1\n",
    "...\n",
    "1,1,4 passa a 1,1,4\n",
    "1,2,1 passa a 2,1,1\n",
    "...\n",
    "1,2,4 passa a 2,1,4\n",
    "2,1,1 passa a 1,2,1\n",
    "...\n",
    "2,1,4 passa a 1,2,4\n",
    "2,2,1 passa a 2,2,1\n",
    "...\n",
    "2,2,4 passa a 2,2,4\n",
    "\"\"\""
   ]
  },
  {
   "cell_type": "markdown",
   "metadata": {},
   "source": [
    "## Universal functions"
   ]
  },
  {
   "cell_type": "code",
   "execution_count": 49,
   "metadata": {},
   "outputs": [
    {
     "name": "stdout",
     "output_type": "stream",
     "text": [
      "[ 9 11 13 15 17 19 21 23]\n",
      "[ 9 10 11 12 13 14 15 16]\n"
     ]
    }
   ],
   "source": [
    "# EXEMPLES\n",
    "x = np.arange(8)\n",
    "\n",
    "# unary ufuncs\n",
    "np.exp(x) # e elevat a element de x\n",
    "np.sqrt(x) # arrel d'element de x\n",
    "\n",
    "# binary ufuncs\n",
    "\n",
    "y = np.arange(9, 17)\n",
    "\n",
    "print(np.add(x,y)) \n",
    "# equivalent: print(x + y)\n",
    "\n",
    "print(np.maximum(x,y))"
   ]
  }
 ],
 "metadata": {
  "kernelspec": {
   "display_name": "Python 3.8.9 64-bit",
   "language": "python",
   "name": "python3"
  },
  "language_info": {
   "codemirror_mode": {
    "name": "ipython",
    "version": 3
   },
   "file_extension": ".py",
   "mimetype": "text/x-python",
   "name": "python",
   "nbconvert_exporter": "python",
   "pygments_lexer": "ipython3",
   "version": "3.8.9"
  },
  "orig_nbformat": 4,
  "vscode": {
   "interpreter": {
    "hash": "31f2aee4e71d21fbe5cf8b01ff0e069b9275f58929596ceb00d14d90e3e16cd6"
   }
  }
 },
 "nbformat": 4,
 "nbformat_minor": 2
}
