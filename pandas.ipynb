{
 "cells": [
  {
   "cell_type": "code",
   "execution_count": 35,
   "metadata": {},
   "outputs": [],
   "source": [
    "import numpy as np\n",
    "import pandas as pd\n",
    "from pandas import Series, DataFrame"
   ]
  },
  {
   "cell_type": "markdown",
   "metadata": {},
   "source": [
    "# What is pandas and Data structures\n",
    "\n",
    "- pandas contanins data structures and data manipulation tools designed to make data cleaning and analysis fast and easy in Python.\n",
    "\n",
    "- It is designed for working with tabular or heterogeneous data. Numpy, by contrast, is best suited for working with homogeneous numerical array data.\n",
    "\n",
    "- Its two workhorse data structures are Series and DataFrame."
   ]
  },
  {
   "cell_type": "markdown",
   "metadata": {},
   "source": [
    "# Series\n",
    "\n",
    "- One-dimensional array-like object containing a sequence of values (of similar types to Numpy types) and an associated array of data labels, called its index.\n",
    "\n",
    "- A way to think about a Series is as a fixed-length, ordered dict, as it is a mapping of index values to data values."
   ]
  },
  {
   "cell_type": "code",
   "execution_count": 111,
   "metadata": {},
   "outputs": [
    {
     "name": "stdout",
     "output_type": "stream",
     "text": [
      "0    4\n",
      "1    7\n",
      "2   -5\n",
      "3    3\n",
      "dtype: int64\n",
      "Ohio      35000\n",
      "Texas     71000\n",
      "Oregon    16000\n",
      "Utah       5000\n",
      "dtype: int64\n",
      "California        NaN\n",
      "Ohio          35000.0\n",
      "Oregon        16000.0\n",
      "Texas         71000.0\n",
      "dtype: float64\n",
      "California        NaN\n",
      "Oregon        16000.0\n",
      "Ohio          35000.0\n",
      "Utah          71000.0\n",
      "dtype: float64\n",
      "state\n",
      "California        NaN\n",
      "Ohio          35000.0\n",
      "Oregon        16000.0\n",
      "Texas         71000.0\n",
      "Name: population, dtype: float64\n"
     ]
    }
   ],
   "source": [
    "obj = pd.Series([4, 7, -5, 3]) # Since we don't specify an index for the data, a default one consisting of the integers 0 through n-1 is created.\n",
    "print(obj)\n",
    "# print(obj.index)\n",
    "# print(obj.values)\n",
    "\n",
    "# Assignar indexs a posteriori\n",
    "obj.index = [1, 2, 3, 4]\n",
    "\n",
    "# Assignar indexs en definir\n",
    "obj2 = pd.Series([4, 7, -5, 3], index = [\"d\", \"b\", \"a\", \"c\"])\n",
    "\n",
    "# Create a Series from a dictionary\n",
    "sdata = {\"Ohio\": 35000, \"Texas\": 71000, \"Oregon\": 16000, \"Utah\": 5000}\n",
    "obj3 = pd.Series(sdata)\n",
    "print(obj3)\n",
    "\n",
    "# Redefinir indexs, canviant ordre, afegint, traient\n",
    "\n",
    "# Opció 1, en la creació\n",
    "states = [\"California\", \"Ohio\", \"Oregon\", \"Texas\"]\n",
    "obj4 = pd.Series(sdata, index = states)\n",
    "print(obj4)\n",
    "\n",
    "# Opció 2, després en un nou objecte\n",
    "obj5 = obj4.reindex([\"California\", \"Oregon\", \"Ohio\", \"Utah\"]) # Si no estava l'índex en l'anterior, col·loca NaN\n",
    "#print(obj5)\n",
    "\n",
    "obj6 = obj4.reindex([\"California\", \"Oregon\", \"Ohio\", \"Utah\"], method = \"ffill\") # Si hi ha valors NaN, interpola per poder posar algun valor.\n",
    "print(obj6)\n",
    "\n",
    "# Series object and its index have a \"name\" attribute.\n",
    "obj4.name = \"population\"\n",
    "obj4.index.name = \"state\"\n",
    "print(obj4)\n"
   ]
  },
  {
   "cell_type": "markdown",
   "metadata": {},
   "source": [
    "## Series: Operations\n",
    "\n",
    "- You can use Numpy functions or Numpy-like operations.\n",
    "\n",
    "- Arithmetic operations.\n",
    "\n",
    "- isnull and notnull to detect missing data\n",
    "\n",
    "- drop to delete an entry"
   ]
  },
  {
   "cell_type": "code",
   "execution_count": 122,
   "metadata": {},
   "outputs": [
    {
     "name": "stdout",
     "output_type": "stream",
     "text": [
      "d    4\n",
      "b    7\n",
      "c    3\n",
      "dtype: int64\n",
      "Els elements seleccionats, els dos últims són:\n",
      " a   -5\n",
      "c    3\n",
      "dtype: int64\n",
      "Els elements seleccionats són de b a c:\n",
      " b    7\n",
      "a   -5\n",
      "c    3\n",
      "dtype: int64\n",
      "L'element b és: 7\n",
      "d     8\n",
      "b    14\n",
      "a   -10\n",
      "c     6\n",
      "dtype: int64\n",
      "state\n",
      "California     True\n",
      "Ohio          False\n",
      "Oregon        False\n",
      "Texas         False\n",
      "Name: population, dtype: bool\n",
      "California         NaN\n",
      "Ohio           70000.0\n",
      "Oregon         32000.0\n",
      "Texas         142000.0\n",
      "Utah               NaN\n",
      "dtype: float64\n"
     ]
    }
   ],
   "source": [
    "cond = obj2[obj2 > 0] # Filtrar\n",
    "print(cond)\n",
    "\n",
    "print(\"Els elements seleccionats, els dos últims són:\\n\", obj2[-2:]) # Slicing\n",
    "print(\"Els elements seleccionats són de b a c:\\n\", obj2[\"b\":\"c\"]) # Slicing per índexs, INCLOU INICI I FI\n",
    "print(\"L'element b és:\", obj2[\"b\"])\n",
    "\n",
    "print(obj2 * 2)\n",
    "\n",
    "\"b\" in obj2 # True. Saber si un índex hi és en la Serie\n",
    "\n",
    "print(pd.isnull(obj4)) # Detectar missing data\n",
    "\n",
    "print(obj3 + obj4) # Sumar els valors que tenen el mateix índex, els que no pot sumar, els converteix en NaN.\n",
    "\n",
    "# Eliminar un valor\n",
    "# del obj2[\"a\"]\n",
    "\n",
    "# Nova Serie havent eliminat valors \n",
    "obje = obj2.drop([\"b\", \"c\"]) # usar ,inplace = True per aplicar-ho al propi objecte\n"
   ]
  },
  {
   "cell_type": "markdown",
   "metadata": {},
   "source": [
    "# DataFrame\n",
    "\n",
    "- A DataFrame represents a rectangular table of data and contains an ordered collection of columns, each of which can be a different value type (numeric, string, boolean, etc.). The DataFrame has both row and column index."
   ]
  },
  {
   "cell_type": "code",
   "execution_count": 74,
   "metadata": {},
   "outputs": [
    {
     "name": "stdout",
     "output_type": "stream",
     "text": [
      "    state  year  pop\n",
      "0    Ohio  2000  1.5\n",
      "1    Ohio  2001  1.7\n",
      "2    Ohio  2002  3.6\n",
      "3  Nevada  2001  2.4\n",
      "4  Nevada  2002  2.9\n",
      "5  Nevada  2003  3.2\n",
      "      Nevada  Ohio\n",
      "2000     NaN   1.5\n",
      "2001     2.4   1.7\n",
      "2002     2.9   3.6\n",
      "state  Nevada  Ohio\n",
      "year               \n",
      "2000      NaN   1.5\n",
      "2001      2.4   1.7\n",
      "2002      2.9   3.6\n"
     ]
    }
   ],
   "source": [
    "# OPCIÓ 1: From a dict of equal-length lists or ndarrays from Numpy\n",
    "\n",
    "data = {\"state\": [\"Ohio\", \"Ohio\", \"Ohio\", \"Nevada\", \"Nevada\", \"Nevada\"],\n",
    "\"year\": [2000, 2001, 2002, 2001, 2002, 2003],\n",
    "\"pop\": np.array([1.5, 1.7, 3.6, 2.4, 2.9, 3.2])}\n",
    "\n",
    "frame = pd.DataFrame(data)\n",
    "print(frame)\n",
    "# print(frame.index) # Només els índexs de les files. En aquest cas, no definits, 0,1,2,3,4,5\n",
    "# print(frame.values) # Només els valors\n",
    "# print(frame.columns) # Només els índexs de les columnes\n",
    "# print(frame[\"state\"]) # Seleccionar una columna\n",
    "# print(frame[0:2]) # Seleccionar les dues primeres columnes\n",
    "# print(frame.loc[0]) # Seleccionar una fila\n",
    "\n",
    "#print(frame.head()) # to view only the first five rows\n",
    "\n",
    "# Definir indexs, canviar ordre de les columnes...\n",
    "frame2 = pd.DataFrame(data, index = [\"one\", \"two\", \"three\", \"four\", \"five\", \"six\"] , columns = [\"year\", \"state\", \"pop\"])\n",
    "# print(frame2)\n",
    "\n",
    "# OPCIÓ 2: From a nested dict of dicts\n",
    "\n",
    "popdata = {\"Nevada\": {2001: 2.4, 2002: 2.9}, \"Ohio\": {2000: 1.5, 2001: 1.7, 2002: 3.6}}\n",
    "frame3 = pd.DataFrame(popdata, index = [2000, 2001, 2002]) # the outer dict keys are the columns and the inner keys are the rows indices. He afegit index = per ordenar els anys al meu gust.\n",
    "print(frame3)\n",
    "\n",
    "# index and columns have their name attributes\n",
    "\n",
    "frame3.index.name = \"year\"\n",
    "frame3.columns.name = \"state\"\n",
    "\n",
    "print(frame3)\n"
   ]
  },
  {
   "cell_type": "markdown",
   "metadata": {},
   "source": [
    "## DataFrame: Modifications"
   ]
  },
  {
   "cell_type": "code",
   "execution_count": 126,
   "metadata": {},
   "outputs": [
    {
     "name": "stdout",
     "output_type": "stream",
     "text": [
      "      Nevada  Ohio\n",
      "2000     2.1   1.3\n",
      "2001     2.2   1.7\n",
      "2002     2.8   3.6\n",
      "      Nevada  Ohio\n",
      "2000     NaN   1.3\n",
      "2001     2.6   1.7\n",
      "2002     3.0   3.6\n",
      "      Nevada  Ohio  California\n",
      "2000     NaN   1.3           1\n",
      "2001     2.6   1.7           2\n",
      "2002     3.0   3.6           3\n",
      "      Nevada  Ohio  California  Exceed_Ohio\n",
      "2000     NaN   1.3           1        False\n",
      "2001     2.6   1.7           2        False\n",
      "2002     3.0   3.6           3         True\n",
      "              2000   2001  2002\n",
      "Ohio           1.3    1.7   3.6\n",
      "California       1      2     3\n",
      "Exceed_Ohio  False  False  True\n",
      "       Ohio  California  Exceed_Ohio\n",
      "2000   True        True         True\n",
      "2001   True       False         True\n",
      "2002  False       False         True\n",
      "      Ohio  California  Exceed_Ohio\n",
      "2000   1.3           1        False\n",
      "2001   1.7           2        False\n"
     ]
    }
   ],
   "source": [
    "popdata = {\"Nevada\": {2001: 2.4, 2002: 2.9}, \"Ohio\": {2000: 1.5, 2001: 1.7, 2002: 3.6}}\n",
    "frame3 = pd.DataFrame(popdata, index = [2000, 2001, 2002]) \n",
    "\n",
    "# Modificar valors per nova assignació\n",
    "frame3[\"Nevada\"] = [2.1, 2.2, 2.8]\n",
    "frame3[\"Ohio\"][2000] = 1.3\n",
    "print(frame3)\n",
    "\n",
    "# Modificar tota una columna a partir d'una Serie. Si no es posen tots els indexs, posa NaN.\n",
    "val = pd.Series([2.6, 3], index=[2001, 2002])\n",
    "frame3[\"Nevada\"] = val\n",
    "print(frame3)\n",
    "\n",
    "# Afegir una nova columna\n",
    "frame3[\"California\"] = [1, 2, 3]\n",
    "print(frame3)\n",
    "\n",
    "frame3[\"Exceed_Ohio\"] = frame3[\"Ohio\"] > 2.5 # Nova columna booleana\n",
    "print(frame3)\n",
    "\n",
    "# Eliminar una columna\n",
    "del frame3[\"Nevada\"]\n",
    "\n",
    "# Crear un nou objecte sense alguna columna o fila\n",
    "framec = frame3.drop(\"Ohio\", axis = 1) # usar ,inplace = True per aplicar-ho al propi objecte\n",
    "framef = frame3.drop(2000)\n",
    "\n",
    "# Transposar el DataFrame\n",
    "print(frame3.T)\n",
    "\n",
    "# Saber si una fila o columna hi és en la taula\n",
    "\"Ohio\" in frame3.columns # True\n",
    "\"2005\" in frame3.index # False\n",
    "\n",
    "# Mostrar True/False si data compleix certes condicions\n",
    "print(frame3 < 2)\n",
    "\n",
    "# Mostrar la data que compleix certes condicions\n",
    "print(frame3[frame3[\"Ohio\"] < 2])\n"
   ]
  }
 ],
 "metadata": {
  "kernelspec": {
   "display_name": "Python 3.8.9 64-bit",
   "language": "python",
   "name": "python3"
  },
  "language_info": {
   "codemirror_mode": {
    "name": "ipython",
    "version": 3
   },
   "file_extension": ".py",
   "mimetype": "text/x-python",
   "name": "python",
   "nbconvert_exporter": "python",
   "pygments_lexer": "ipython3",
   "version": "3.8.9"
  },
  "orig_nbformat": 4,
  "vscode": {
   "interpreter": {
    "hash": "31f2aee4e71d21fbe5cf8b01ff0e069b9275f58929596ceb00d14d90e3e16cd6"
   }
  }
 },
 "nbformat": 4,
 "nbformat_minor": 2
}
