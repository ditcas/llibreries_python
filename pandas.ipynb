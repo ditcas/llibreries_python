{
 "cells": [
  {
   "cell_type": "code",
   "execution_count": 1,
   "metadata": {},
   "outputs": [],
   "source": [
    "import numpy as np\n",
    "import pandas as pd\n",
    "from pandas import Series, DataFrame"
   ]
  },
  {
   "cell_type": "markdown",
   "metadata": {},
   "source": [
    "# What is pandas and Data structures\n",
    "\n",
    "- pandas contanins data structures and data manipulation tools designed to make data cleaning and analysis fast and easy in Python.\n",
    "\n",
    "- It is designed for working with tabular or heterogeneous data. Numpy, by contrast, is best suited for working with homogeneous numerical array data.\n",
    "\n",
    "- Its two workhorse data structures are Series and DataFrame."
   ]
  },
  {
   "cell_type": "markdown",
   "metadata": {},
   "source": [
    "# Series\n",
    "\n",
    "- One-dimensional array-like object containing a sequence of values (of similar types to Numpy types) and an associated array of data labels, called its index.\n",
    "\n",
    "- A way to think about a Series is as a fixed-length, ordered dict, as it is a mapping of index values to data values."
   ]
  },
  {
   "cell_type": "code",
   "execution_count": 29,
   "metadata": {},
   "outputs": [
    {
     "name": "stdout",
     "output_type": "stream",
     "text": [
      "0    4\n",
      "1    7\n",
      "2   -5\n",
      "3    3\n",
      "dtype: int64\n",
      "Ohio      35000\n",
      "Texas     71000\n",
      "Oregon    16000\n",
      "Utah       5000\n",
      "dtype: int64\n",
      "California        NaN\n",
      "Ohio          35000.0\n",
      "Oregon        16000.0\n",
      "Texas         71000.0\n",
      "dtype: float64\n",
      "California        NaN\n",
      "Oregon        16000.0\n",
      "Ohio          35000.0\n",
      "Utah          71000.0\n",
      "dtype: float64\n",
      "state\n",
      "California        NaN\n",
      "Ohio          35000.0\n",
      "Oregon        16000.0\n",
      "Texas         71000.0\n",
      "Name: population, dtype: float64\n"
     ]
    }
   ],
   "source": [
    "obj = pd.Series([4, 7, -5, 3]) # Since we don't specify an index for the data, a default one consisting of the integers 0 through n-1 is created.\n",
    "print(obj)\n",
    "# print(obj.index)\n",
    "# print(obj.values)\n",
    "\n",
    "# Assignar indexs a posteriori\n",
    "obj.index = [1, 2, 3, 4]\n",
    "\n",
    "# Assignar indexs en definir\n",
    "obj2 = pd.Series([4, 7, -5, 3], index = [\"d\", \"b\", \"a\", \"c\"])\n",
    "\n",
    "# Create a Series from a dictionary\n",
    "sdata = {\"Ohio\": 35000, \"Texas\": 71000, \"Oregon\": 16000, \"Utah\": 5000}\n",
    "obj3 = pd.Series(sdata)\n",
    "print(obj3)\n",
    "\n",
    "# Redefinir indexs, canviant ordre, afegint, traient\n",
    "\n",
    "# Opció 1, en la creació\n",
    "states = [\"California\", \"Ohio\", \"Oregon\", \"Texas\"]\n",
    "obj4 = pd.Series(sdata, index = states)\n",
    "print(obj4)\n",
    "\n",
    "# Opció 2, després en un nou objecte\n",
    "obj5 = obj4.reindex([\"California\", \"Oregon\", \"Ohio\", \"Utah\"]) # Si no estava l'índex en l'anterior, col·loca NaN\n",
    "#print(obj5)\n",
    "\n",
    "obj6 = obj4.reindex([\"California\", \"Oregon\", \"Ohio\", \"Utah\"], method = \"ffill\") # Si hi ha valors NaN, interpola per poder posar algun valor. \n",
    "# fill_value = valor, si hi ha valors NaN hi posa aquest valor.\n",
    "print(obj6)\n",
    "\n",
    "# Series object and its index have a \"name\" attribute.\n",
    "obj4.name = \"population\"\n",
    "obj4.index.name = \"state\"\n",
    "print(obj4)\n"
   ]
  },
  {
   "cell_type": "markdown",
   "metadata": {},
   "source": [
    "# DataFrame\n",
    "\n",
    "- A DataFrame represents a rectangular table of data and contains an ordered collection of columns, each of which can be a different value type (numeric, string, boolean, etc.). The DataFrame has both row and column index."
   ]
  },
  {
   "cell_type": "code",
   "execution_count": 79,
   "metadata": {},
   "outputs": [
    {
     "name": "stdout",
     "output_type": "stream",
     "text": [
      "    state  year  pop\n",
      "0    Ohio  2000  1.5\n",
      "1    Ohio  2001  1.7\n",
      "2    Ohio  2002  3.6\n",
      "3  Nevada  2001  2.4\n",
      "4  Nevada  2002  2.9\n",
      "5  Nevada  2003  3.2\n",
      "       year state  pop  crimes\n",
      "one       0     0  0.0       0\n",
      "two       0     0  0.0       0\n",
      "three     0     0  0.0       0\n",
      "four      0     0  0.0       0\n",
      "five      0     0  0.0       0\n",
      "six       0     0  0.0       0\n",
      "0    c\n",
      "1    a\n",
      "2    b\n",
      "2    b\n",
      "0    c\n",
      "1    a\n",
      "dtype: object\n"
     ]
    }
   ],
   "source": [
    "# OPCIÓ 1: From a dict of equal-length lists or ndarrays from Numpy\n",
    "\n",
    "data = {\"state\": [\"Ohio\", \"Ohio\", \"Ohio\", \"Nevada\", \"Nevada\", \"Nevada\"],\n",
    "\"year\": [2000, 2001, 2002, 2001, 2002, 2003],\n",
    "\"pop\": [1.5, 1.7, 3.6, 2.4, 2.9, 3.2]}\n",
    "\n",
    "frame = pd.DataFrame(data)\n",
    "print(frame)\n",
    "\n",
    "# Definir indexs, canviar ordre de les columnes en crear el DataFrame\n",
    "frame2 = pd.DataFrame(data, index = [\"one\", \"two\", \"three\", \"four\", \"five\", \"six\"] , columns = [\"year\", \"state\", \"pop\"])\n",
    "# print(frame2)\n",
    "\n",
    "# Definir indexs a posteriori\n",
    "frame22 = frame.reindex(index = [\"one\", \"two\", \"three\", \"four\", \"five\", \"six\"], columns=[\"year\", \"state\", \"pop\", \"crimes\"], fill_value=0) # Si afegim una nova columna que tindrà valors NaN, podem usar argument fill_values per omplir-los.\n",
    "print(frame22)\n",
    "\n",
    "# frame1 = pd.DataFrame(np.arange(9.).reshape((3,3)), columns=list(\"bcd\"), index=[\"Ohio\", \"Texas\", \"Colorado\"]) #ndarrays\n",
    "\n",
    "# Indexar una Serie de valors repetits a partir d'una Serie dels valors únics - get_indexer\n",
    "\n",
    "srep = pd.Series([\"c\", \"a\", \"b\", \"b\", \"c\", \"a\"]) # els índexs ara són 0,1,2,3,4,5\n",
    "unique = pd.Series(srep.unique()) #method unique a la secció Descriptive Statistics dels apunts.\n",
    "\n",
    "arrindex = pd.Index(unique).get_indexer(srep)\n",
    "srep2 = srep.reindex(index=arrindex)\n",
    "print(srep2)\n",
    "\n"
   ]
  },
  {
   "cell_type": "code",
   "execution_count": 75,
   "metadata": {},
   "outputs": [
    {
     "name": "stdout",
     "output_type": "stream",
     "text": [
      "      Nevada  Ohio\n",
      "2000     NaN   1.5\n",
      "2001     2.4   1.7\n",
      "2002     2.9   3.6\n",
      "state  Nevada  Ohio\n",
      "year               \n",
      "2000      NaN   1.5\n",
      "2001      2.4   1.7\n",
      "2002      2.9   3.6\n"
     ]
    }
   ],
   "source": [
    "# OPCIÓ 2: From a nested dict of dicts\n",
    "\n",
    "popdata = {\"Nevada\": {2001: 2.4, 2002: 2.9}, \"Ohio\": {2000: 1.5, 2001: 1.7, 2002: 3.6}}\n",
    "frame3 = pd.DataFrame(popdata, index = [2000, 2001, 2002]) # the outer dict keys are the columns and the inner keys are the rows indices. He afegit index = per ordenar els anys al meu gust.\n",
    "print(frame3)\n",
    "\n",
    "# index and columns have their name attributes\n",
    "\n",
    "frame3.index.name = \"year\"\n",
    "frame3.columns.name = \"state\"\n",
    "\n",
    "print(frame3)"
   ]
  },
  {
   "cell_type": "markdown",
   "metadata": {},
   "source": [
    "## Series: Selection\n",
    "\n",
    "- isnull and notnull to detect missing data"
   ]
  },
  {
   "cell_type": "code",
   "execution_count": 73,
   "metadata": {},
   "outputs": [
    {
     "name": "stdout",
     "output_type": "stream",
     "text": [
      "d    4\n",
      "b    7\n",
      "c    3\n",
      "dtype: int64\n",
      "d     True\n",
      "b    False\n",
      "a    False\n",
      "c     True\n",
      "dtype: bool\n",
      "d    4\n",
      "c    3\n",
      "dtype: int64\n",
      "Els dos últims:\n",
      " a   -5\n",
      "c    3\n",
      "dtype: int64\n",
      "Els elements de b a c:\n",
      " b    7\n",
      "a   -5\n",
      "c    3\n",
      "dtype: int64\n",
      "L'element b és: 7\n",
      "California     True\n",
      "Ohio          False\n",
      "Oregon        False\n",
      "Texas         False\n",
      "dtype: bool\n"
     ]
    }
   ],
   "source": [
    "obj2 = pd.Series([4, 7, -5, 3], index = [\"d\", \"b\", \"a\", \"c\"])\n",
    "\n",
    "# Filtrar\n",
    "cond = obj2[obj2 > 0] \n",
    "print(cond)\n",
    "\n",
    "\"b\" in obj2 # True. Saber si un índex hi és en la Serie\n",
    "\n",
    "mask = obj2.isin([3, 4])\n",
    "print(mask) # True o False segons si és 3 o 4 o no.\n",
    "print(obj2[mask])\n",
    "\n",
    "\n",
    "# Slicing\n",
    "\n",
    "print(\"Els dos últims:\\n\", obj2[-2:]) \n",
    "print(\"Els elements de b a c:\\n\", obj2[\"b\":\"c\"]) # Slicing per índexs/label, INCLOU INICI I FI\n",
    "print(\"L'element b és:\", obj2[\"b\"])\n",
    "\n",
    "\n",
    "# Detectar missing data\n",
    "\n",
    "sdata = {\"Ohio\": 35000, \"Texas\": 71000, \"Oregon\": 16000, \"Utah\": 5000}\n",
    "states = [\"California\", \"Ohio\", \"Oregon\", \"Texas\"]\n",
    "obj4 = pd.Series(sdata, index = states)\n",
    "\n",
    "print(pd.isnull(obj4)) \n"
   ]
  },
  {
   "cell_type": "markdown",
   "metadata": {},
   "source": [
    "## DataFrame: Selection"
   ]
  },
  {
   "cell_type": "code",
   "execution_count": 23,
   "metadata": {},
   "outputs": [
    {
     "name": "stdout",
     "output_type": "stream",
     "text": [
      "    state  year  pop\n",
      "0    Ohio  2000  1.5\n",
      "1    Ohio  2001  1.7\n",
      "2    Ohio  2002  3.6\n",
      "3  Nevada  2001  2.4\n",
      "4  Nevada  2002  2.9\n",
      "5  Nevada  2003  3.2\n",
      "RangeIndex(start=0, stop=6, step=1)\n",
      "[['Ohio' 2000 1.5]\n",
      " ['Ohio' 2001 1.7]\n",
      " ['Ohio' 2002 3.6]\n",
      " ['Nevada' 2001 2.4]\n",
      " ['Nevada' 2002 2.9]\n",
      " ['Nevada' 2003 3.2]]\n",
      "Index(['state', 'year', 'pop'], dtype='object')\n",
      "0      Ohio\n",
      "1      Ohio\n",
      "2      Ohio\n",
      "3    Nevada\n",
      "4    Nevada\n",
      "5    Nevada\n",
      "Name: state, dtype: object\n",
      "  state  year  pop\n",
      "0  Ohio  2000  1.5\n",
      "1  Ohio  2001  1.7\n",
      "state    Ohio\n",
      "year     2000\n",
      "pop       1.5\n",
      "Name: 0, dtype: object\n",
      "  state  pop\n",
      "0  Ohio  1.5\n",
      "1  Ohio  1.7\n",
      "2  Ohio  3.6\n",
      "2000\n",
      "0     True\n",
      "1     True\n",
      "2    False\n",
      "3    False\n",
      "4    False\n",
      "5    False\n",
      "Name: pop, dtype: bool\n",
      "  state  pop\n",
      "0  Ohio  1.5\n",
      "1  Ohio  1.7\n"
     ]
    }
   ],
   "source": [
    "data = {\"state\": [\"Ohio\", \"Ohio\", \"Ohio\", \"Nevada\", \"Nevada\", \"Nevada\"],\n",
    "\"year\": [2000, 2001, 2002, 2001, 2002, 2003],\n",
    "\"pop\": [1.5, 1.7, 3.6, 2.4, 2.9, 3.2]}\n",
    "\n",
    "frame = pd.DataFrame(data)\n",
    "print(frame)\n",
    "\n",
    "print(frame.index) # Només els índexs de les files. En aquest cas, no definits, 0,1,2,3,4,5\n",
    "print(frame.values) # Només els valors\n",
    "print(frame.columns) # Només els índexs de les columnes\n",
    "print(frame[\"state\"]) # Seleccionar una columna\n",
    "print(frame[0:2]) # Seleccionar les dues primeres columnes. Usar enters pot portar a errors entre índexs i posició. Millor usar iloc.\n",
    "print(frame.loc[0]) # Seleccionar una fila by label\n",
    "print(frame.loc[0:2, [\"state\", \"pop\"]]) # Seleccionar un element, o una combinació de files i columnes. Slicing per labels/índexs, INCLOU INICI I FI\n",
    "print(frame.iloc[0, 1]) # Seleccionar mitjançant posició (integers) i no label/índex\n",
    "\n",
    "#print(frame.head()) # to view only the first five rows\n",
    "\n",
    "# Saber si una columna o fila hi és en la taula\n",
    "\"year\" in frame.columns # True\n",
    "6 in frame3.index # False\n",
    "\n",
    "# Mostrar True/False si data compleix certes condicions\n",
    "print(frame[\"pop\"] < 2)\n",
    "\n",
    "# Mostrar la data que compleix certes condicions\n",
    "print(frame[[\"state\", \"pop\"]][frame[\"pop\"] < 2])"
   ]
  },
  {
   "cell_type": "markdown",
   "metadata": {},
   "source": [
    "## Series: Modifications"
   ]
  },
  {
   "cell_type": "code",
   "execution_count": 31,
   "metadata": {},
   "outputs": [
    {
     "name": "stdout",
     "output_type": "stream",
     "text": [
      "d    5\n",
      "b    7\n",
      "a   -5\n",
      "c    3\n",
      "dtype: int64\n",
      "d    5\n",
      "b    7\n",
      "a   -5\n",
      "c    3\n",
      "dtype: int64\n",
      "d    5\n",
      "b    7\n",
      "a   -5\n",
      "c    3\n",
      "e   -1\n",
      "dtype: int64\n"
     ]
    }
   ],
   "source": [
    "obj2 = pd.Series([4, 7, -5, 3], index = [\"d\", \"b\", \"a\", \"c\"])\n",
    "\n",
    "# Eliminar un valor\n",
    "# del obj2[\"a\"]\n",
    "\n",
    "# Nova Serie havent eliminat valors \n",
    "obje = obj2.drop([\"b\", \"c\"]) # usar ,inplace = True per aplicar-ho al propi objecte\n",
    "\n",
    "print(obj2)\n",
    "\n",
    "# Modificar un valor per assignació\n",
    "obj2[\"d\"] = 5\n",
    "print(obj2)\n",
    "\n",
    "# Afegir un nou valor\n",
    "obj2[\"e\"] = -1\n",
    "print(obj2)\n"
   ]
  },
  {
   "cell_type": "markdown",
   "metadata": {},
   "source": [
    "## DataFrame: Modifications"
   ]
  },
  {
   "cell_type": "code",
   "execution_count": 15,
   "metadata": {},
   "outputs": [
    {
     "name": "stdout",
     "output_type": "stream",
     "text": [
      "      Nevada  Ohio\n",
      "2000     2.1   1.3\n",
      "2001     2.2   1.7\n",
      "2002     2.8   3.6\n",
      "      Nevada  Ohio\n",
      "2000     NaN   1.3\n",
      "2001     2.6   1.7\n",
      "2002     3.0   3.6\n",
      "      Nevada  Ohio  California\n",
      "2000     NaN   1.3           1\n",
      "2001     2.6   1.7           2\n",
      "2002     3.0   3.6           3\n",
      "      Nevada  Ohio  California  Exceed_Ohio\n",
      "2000     NaN   1.3           1        False\n",
      "2001     2.6   1.7           2        False\n",
      "2002     3.0   3.6           3         True\n",
      "              2000   2001  2002\n",
      "Ohio           1.3    1.7   3.6\n",
      "California       1      2     3\n",
      "Exceed_Ohio  False  False  True\n",
      "       Ohio  California  Exceed_Ohio\n",
      "2000   True        True         True\n",
      "2001   True       False         True\n",
      "2002  False       False         True\n",
      "2000    1.3\n",
      "2001    1.7\n",
      "Name: Ohio, dtype: float64\n"
     ]
    }
   ],
   "source": [
    "popdata = {\"Nevada\": {2001: 2.4, 2002: 2.9}, \"Ohio\": {2000: 1.5, 2001: 1.7, 2002: 3.6}}\n",
    "frame3 = pd.DataFrame(popdata, index = [2000, 2001, 2002]) \n",
    "\n",
    "# Modificar valors per nova assignació\n",
    "frame3[\"Nevada\"] = [2.1, 2.2, 2.8]\n",
    "frame3[\"Ohio\"][2000] = 1.3\n",
    "print(frame3)\n",
    "\n",
    "# Modificar tota una columna a partir d'una Serie. Si no es posen tots els indexs, posa NaN.\n",
    "val = pd.Series([2.6, 3], index=[2001, 2002])\n",
    "frame3[\"Nevada\"] = val\n",
    "print(frame3)\n",
    "\n",
    "# Afegir una nova columna\n",
    "frame3[\"California\"] = [1, 2, 3]\n",
    "print(frame3)\n",
    "\n",
    "frame3[\"Exceed_Ohio\"] = frame3[\"Ohio\"] > 2.5 # Nova columna booleana\n",
    "print(frame3)\n",
    "\n",
    "# Eliminar una columna\n",
    "del frame3[\"Nevada\"]\n",
    "\n",
    "# Crear un nou objecte sense alguna columna o fila\n",
    "framec = frame3.drop(\"Ohio\", axis = 1) # usar ,inplace = True per aplicar-ho al propi objecte\n",
    "framef = frame3.drop(2000)\n",
    "\n",
    "# Transposar el DataFrame\n",
    "print(frame3.T)\n"
   ]
  },
  {
   "cell_type": "markdown",
   "metadata": {},
   "source": [
    "## Series: Operations\n",
    "\n",
    "- You can use Numpy functions or Numpy-like operations.\n",
    "\n",
    "- artihmetic methods: add (+), sub (-), div (/), floordiv (//), mul (*), pow (**). Si posem r al davant, radd, rsub... invertim ordre de l'operació: a - b equivalent a a.sub(b) equivalent a b.rsub(a)."
   ]
  },
  {
   "cell_type": "code",
   "execution_count": 8,
   "metadata": {},
   "outputs": [
    {
     "name": "stdout",
     "output_type": "stream",
     "text": [
      "d     8\n",
      "b    14\n",
      "a   -10\n",
      "c     6\n",
      "dtype: int64\n",
      "California         NaN\n",
      "Ohio           70000.0\n",
      "Oregon         32000.0\n",
      "Texas         142000.0\n",
      "Utah               NaN\n",
      "dtype: float64\n",
      "d    4\n",
      "b    7\n",
      "a    5\n",
      "c    3\n",
      "dtype: int64\n",
      "d     0\n",
      "b     0\n",
      "a   -10\n",
      "c     0\n",
      "dtype: int64\n"
     ]
    }
   ],
   "source": [
    "obj2 = pd.Series([4, 7, -5, 3], index = [\"d\", \"b\", \"a\", \"c\"])\n",
    "sdata = {\"Ohio\": 35000, \"Texas\": 71000, \"Oregon\": 16000, \"Utah\": 5000}\n",
    "obj3 = pd.Series(sdata)\n",
    "states = [\"California\", \"Ohio\", \"Oregon\", \"Texas\"]\n",
    "obj4 = pd.Series(sdata, index = states)\n",
    "\n",
    "print(obj2 * 2)\n",
    "\n",
    "print(obj3 + obj4) # Sumar els valors que tenen el mateix índex, els que no pot sumar, els converteix en NaN.\n",
    "\n",
    "print(np.abs(obj2)) # valor absolut. Funció Numpy.\n",
    "\n",
    "f = lambda x : x - abs(x)\n",
    "print(obj2.map(f)) # .map aplicar una funció a cada un dels elements."
   ]
  },
  {
   "cell_type": "markdown",
   "metadata": {},
   "source": [
    "## DataFrame: Operations\n",
    "\n",
    "- artihmetic methods: add (+), sub (-), div (/), floordiv (//), mul (*), pow (**). Si posem r al davant, radd, rsub... invertim ordre de l'operació: a - b equivalent a a.sub(b) equivalent a b.rsub(a).\n",
    "\n",
    "- Numpy ufuncs also work with pandas objects,"
   ]
  },
  {
   "cell_type": "code",
   "execution_count": 39,
   "metadata": {},
   "outputs": [
    {
     "name": "stdout",
     "output_type": "stream",
     "text": [
      "            b    c    d\n",
      "Ohio      0.0  1.0  2.0\n",
      "Texas     3.0  4.0  5.0\n",
      "Colorado  6.0  7.0  8.0\n",
      "          b     d     e\n",
      "Utah    0.0   1.0   2.0\n",
      "Ohio    3.0   4.0   5.0\n",
      "Texas   6.0   7.0   8.0\n",
      "Oregon  9.0  10.0  11.0\n",
      "            b   c     d   e\n",
      "Colorado  NaN NaN   NaN NaN\n",
      "Ohio      3.0 NaN   6.0 NaN\n",
      "Oregon    NaN NaN   NaN NaN\n",
      "Texas     9.0 NaN  12.0 NaN\n",
      "Utah      NaN NaN   NaN NaN\n",
      "            b    c     d     e\n",
      "Colorado  6.0  7.0   8.0   NaN\n",
      "Ohio      3.0  1.0   6.0   5.0\n",
      "Oregon    9.0  NaN  10.0  11.0\n",
      "Texas     9.0  4.0  12.0   8.0\n",
      "Utah      0.0  NaN   1.0   2.0\n"
     ]
    }
   ],
   "source": [
    "df1 = pd.DataFrame(np.arange(9.).reshape((3,3)), columns=list(\"bcd\"), index=[\"Ohio\", \"Texas\", \"Colorado\"])\n",
    "\n",
    "df2 = pd.DataFrame(np.arange(12.).reshape((4,3)), columns=list(\"bde\"), index=[\"Utah\", \"Ohio\", \"Texas\", \"Oregon\"])\n",
    "\n",
    "print(df1)\n",
    "print(df2)\n",
    "\n",
    "print(df1 + df2) # Cal que índex de fila i columna coincideixin per poder sumar-los. Sinó, NaN.\n",
    "print(df1.add(df2, fill_value=0)) # Es pot usar els methods per operar(add, sub, div...) i l'argument fill_value per si un element només està en una taula, assignar-li valor a l'altra taula per sumar. Si l'element no està en cap de les dues taules, seguirà apareixent NaN."
   ]
  },
  {
   "cell_type": "code",
   "execution_count": 45,
   "metadata": {},
   "outputs": [
    {
     "name": "stdout",
     "output_type": "stream",
     "text": [
      "          b     d     e\n",
      "Utah    0.0   1.0   2.0\n",
      "Ohio    3.0   4.0   5.0\n",
      "Texas   6.0   7.0   8.0\n",
      "Oregon  9.0  10.0  11.0\n",
      "b    0.0\n",
      "d    1.0\n",
      "e    2.0\n",
      "Name: Utah, dtype: float64\n",
      "          b    d    e\n",
      "Utah    0.0  0.0  0.0\n",
      "Ohio    3.0  3.0  3.0\n",
      "Texas   6.0  6.0  6.0\n",
      "Oregon  9.0  9.0  9.0\n",
      "Utah       1.0\n",
      "Ohio       4.0\n",
      "Texas      7.0\n",
      "Oregon    10.0\n",
      "Name: d, dtype: float64\n",
      "          b    d    e\n",
      "Utah   -1.0  0.0  1.0\n",
      "Ohio   -1.0  0.0  1.0\n",
      "Texas  -1.0  0.0  1.0\n",
      "Oregon -1.0  0.0  1.0\n"
     ]
    }
   ],
   "source": [
    "# OPERATIONS BETWEEN DATAFRAME AND SERIES\n",
    "# Arithmetic between them matches the index of the Series on the DataFrame's columns, broadcasting down the rows.\n",
    "\n",
    "frame = pd.DataFrame(np.arange(12.).reshape((4,3)), index=[\"Utah\", \"Ohio\", \"Texas\", \"Oregon\"], columns=list(\"bde\"))\n",
    "\n",
    "series = frame.iloc[0] # La primera fila\n",
    "\n",
    "print(frame)\n",
    "print(series)\n",
    "\n",
    "print(frame - series) # resta la fila series a totes les files de frame lligant b-b, d-d, e-e. Si hi hagués algun índex sense match, NaN.\n",
    "\n",
    "# Si volem lligar índexs per files, i fer broadcast over the columns, cal usar els arithmetic methods: add, sub... i l'argument axis=\"index\"\n",
    "\n",
    "series2 = frame[\"d\"] # la columna d\n",
    "print(series2)\n",
    "\n",
    "print(frame.sub(series2, axis=\"index\")) # resta la columna d a totes les columnes de frame, lligant Utah, Ohio...\n"
   ]
  },
  {
   "cell_type": "code",
   "execution_count": 13,
   "metadata": {},
   "outputs": [
    {
     "name": "stdout",
     "output_type": "stream",
     "text": [
      "               b         d         e\n",
      "Utah   -0.619936  0.383376 -1.008632\n",
      "Ohio   -0.371243  0.958097 -0.199604\n",
      "Texas  -2.595658 -0.802796 -0.441220\n",
      "Oregon  0.540372  0.002627 -0.636958\n",
      "               b         d         e\n",
      "Utah    0.619936  0.383376  1.008632\n",
      "Ohio    0.371243  0.958097  0.199604\n",
      "Texas   2.595658  0.802796  0.441220\n",
      "Oregon  0.540372  0.002627  0.636958\n",
      "b    3.136030\n",
      "d    1.760894\n",
      "e    0.809028\n",
      "dtype: float64\n",
      "Utah      1.392008\n",
      "Ohio      1.329341\n",
      "Texas     2.154439\n",
      "Oregon    1.177330\n",
      "dtype: float64\n",
      "            b         d         e\n",
      "min -2.595658 -0.802796 -1.008632\n",
      "max  0.540372  0.958097 -0.199604\n",
      "            b      d      e\n",
      "Utah    -0.62   0.38  -1.01\n",
      "Ohio    -0.37   0.96  -0.20\n",
      "Texas   -2.60  -0.80  -0.44\n",
      "Oregon   0.54   0.00  -0.64\n"
     ]
    }
   ],
   "source": [
    "# FUNCTION APPLICATION AND MAPPING\n",
    "\n",
    "frame = pd.DataFrame(np.random.randn(4,3), index=[\"Utah\", \"Ohio\", \"Texas\", \"Oregon\"], columns=list(\"bde\"))\n",
    "print(frame)\n",
    "\n",
    "#Numpy function\n",
    "print(np.abs(frame)) \n",
    "\n",
    "# Applying a function on one-dimensional arrays to each column or row. - APPLY\n",
    "f = lambda x: x.max() - x.min()\n",
    "\n",
    "print(frame.apply(f)) # Aplica per columnes\n",
    "\n",
    "print(frame.apply(f, axis=\"columns\")) # aplica per files, és a dir, saltant columnes\n",
    "\n",
    "def g(x) : # Un altre exemple\n",
    "    return pd.Series([x.min(), x.max()], index=[\"min\", \"max\"])\n",
    "\n",
    "print(frame.apply(g))\n",
    "\n",
    "# Element-wise Python functions - APPLYMAP\n",
    "\n",
    "format = lambda x: \"%.2f\" % x # Formateja valors a floats amb dos decimals\n",
    "\n",
    "print(frame.applymap(format))\n",
    "\n"
   ]
  },
  {
   "cell_type": "markdown",
   "metadata": {},
   "source": [
    "## Series: Sorting and ranking"
   ]
  },
  {
   "cell_type": "code",
   "execution_count": 24,
   "metadata": {},
   "outputs": [
    {
     "name": "stdout",
     "output_type": "stream",
     "text": [
      "a    1\n",
      "b    2\n",
      "c    3\n",
      "d    0\n",
      "dtype: int64\n",
      "d    0\n",
      "a    1\n",
      "b    2\n",
      "c    3\n",
      "dtype: int64\n",
      "0    7.5\n",
      "1    1.0\n",
      "2    7.5\n",
      "3    5.0\n",
      "4    3.0\n",
      "5    2.0\n",
      "6    5.0\n",
      "7    5.0\n",
      "dtype: float64\n",
      "0    1.0\n",
      "1    8.0\n",
      "2    1.0\n",
      "3    3.0\n",
      "4    6.0\n",
      "5    7.0\n",
      "6    3.0\n",
      "7    3.0\n",
      "dtype: float64\n"
     ]
    }
   ],
   "source": [
    "obj = pd.Series(range(4), index=[\"d\", \"a\", \"b\", \"c\"])\n",
    "\n",
    "print(obj.sort_index()) # Ordenat pels índexs\n",
    "\n",
    "print(obj.sort_values()) # Ordenat pels valors\n",
    "\n",
    "series = pd.Series([7, -5, 7, 4, 2, 0, 4, 4])\n",
    "\n",
    "print(series.rank()) # amb el número 1, el valor més petit, i d'aquí en amunt. Si números repetits, se'ls otorga la mitjana de les posicions. Per exemple, els 4 estan en posició 4-5-6, per això els tres reben un 5. I els 7 estan en posició 7 i 8, per això reben un 7.5. Hi ha altres mètodes per valors repetits, com \"first\", \"max\", \"min\", \"dense\".\n",
    "\n",
    "print(series.rank(ascending = False, method = \"min\")) # amb 1 el valor més gran. Si repetits, la posició menor per tots.\n"
   ]
  },
  {
   "cell_type": "markdown",
   "metadata": {},
   "source": [
    "## DataFrame: Sorting and ranking"
   ]
  },
  {
   "cell_type": "code",
   "execution_count": 43,
   "metadata": {},
   "outputs": [
    {
     "name": "stdout",
     "output_type": "stream",
     "text": [
      "          d         a         b         c\n",
      "3 -1.771059  0.115122  0.257853 -0.912060\n",
      "2  0.139835 -0.203534  0.835837 -0.125360\n",
      "4 -1.335450  0.823848  0.422093  0.123598\n",
      "1 -0.759722  0.870042  0.266013 -0.078854\n",
      "     d    a    b    c\n",
      "3  1.0  2.0  1.0  1.0\n",
      "2  4.0  1.0  4.0  2.0\n",
      "4  2.0  3.0  3.0  4.0\n",
      "1  3.0  4.0  2.0  3.0\n",
      "     d    a    b    c\n",
      "3  4.0  2.0  1.0  3.0\n",
      "2  2.0  4.0  1.0  3.0\n",
      "4  4.0  1.0  2.0  3.0\n",
      "1  4.0  1.0  2.0  3.0\n"
     ]
    }
   ],
   "source": [
    "frame = pd.DataFrame(np.random.randn(4,4), index=[3, 2, 4, 1], columns=[\"d\", \"a\", \"b\", \"c\"])\n",
    "print(frame)\n",
    "\n",
    "# print(frame.sort_index()) # Per índexs fila\n",
    "# print(frame.sort_index(axis=1)) # Per índexs columna\n",
    "# print(frame.sort_values(by=\"c\", ascending=False)) # Per valors d'una columna, de gran a petit\n",
    "\n",
    "print(frame.rank()) # Rang de petit a gran per columnes\n",
    "print(frame.rank(axis = \"columns\", ascending=False)) # Rang de gran a petit per files"
   ]
  },
  {
   "cell_type": "markdown",
   "metadata": {},
   "source": [
    "## Axis indexes with duplicate labels\n",
    "\n",
    "All of the examples we've looked at have had unique axis labels. While many pandas functions, like reindex, require that the labels be unique, it's not mandatory.\n",
    "\n",
    "The index's \"is_unique\" property can tell you whether its labels are unique or not."
   ]
  },
  {
   "cell_type": "markdown",
   "metadata": {},
   "source": [
    "## Descriptive Statistics\n",
    "\n",
    "- Compared with the similar methods found on Numpy arrays, these ones have been built-in handling for missing data."
   ]
  },
  {
   "cell_type": "code",
   "execution_count": 69,
   "metadata": {},
   "outputs": [
    {
     "name": "stdout",
     "output_type": "stream",
     "text": [
      "    one  two\n",
      "a  1.40  NaN\n",
      "b  7.10 -4.5\n",
      "c   NaN  NaN\n",
      "d  0.75 -1.3\n",
      "one    9.25\n",
      "two   -5.80\n",
      "dtype: float64\n",
      "            one       two\n",
      "count  3.000000  2.000000\n",
      "mean   3.083333 -2.900000\n",
      "std    3.493685  2.262742\n",
      "min    0.750000 -4.500000\n",
      "25%    1.075000 -3.700000\n",
      "50%    1.400000 -2.900000\n",
      "75%    4.250000 -2.100000\n",
      "max    7.100000 -1.300000\n",
      "count     16\n",
      "unique     3\n",
      "top        a\n",
      "freq       8\n",
      "dtype: object\n",
      "['a' 'b' 'c']\n",
      "a    8\n",
      "b    4\n",
      "c    4\n",
      "dtype: int64\n"
     ]
    }
   ],
   "source": [
    "data = np.array([[1.4, np.nan], [7.1, -4.5], [np.nan, np.nan], [0.75, -1.3]])\n",
    "df = pd.DataFrame(data, index=list(\"abcd\"), columns=[\"one\",\"two\"])\n",
    "print(df)\n",
    "\n",
    "print(df.sum()) # NA values are excluded. Si volem que els contempli i per tant aparegui NaN en la suma, skipna=False.  # Si volem sumar les files, axis=1.\n",
    "\n",
    "# print(df.idxmax()) # index del valor on es troba el màxim\n",
    "\n",
    "# print(df.cumsum()) # Suma acumulativa\n",
    "\n",
    "print(df.describe()) # taula amb un resum d'estadístiques\n",
    "\n",
    "# Si les dades són no-numèriques mostra altres estadístiques, per exemple en aquesta Serie:\n",
    "\n",
    "obj = pd.Series([\"a\", \"a\", \"b\", \"c\"] * 4)\n",
    "print(obj.describe())\n",
    "\n",
    "print(obj.unique()) # Valors únics de la Serie, com un Set\n",
    "print(obj.value_counts()) # Freqüència de cada valor. # value_counts també està disponible com un method de pandas per ser usat en qualsevol array o seqüència"
   ]
  },
  {
   "cell_type": "code",
   "execution_count": 81,
   "metadata": {},
   "outputs": [
    {
     "name": "stdout",
     "output_type": "stream",
     "text": [
      "   Qu1  Qu2  Qu3\n",
      "0    1    2    1\n",
      "1    3    3    5\n",
      "2    4    1    2\n",
      "3    3    2    4\n",
      "4    4    3    4\n",
      "   Qu1  Qu2  Qu3\n",
      "1  1.0  1.0  1.0\n",
      "2  0.0  2.0  1.0\n",
      "3  2.0  2.0  0.0\n",
      "4  2.0  0.0  2.0\n",
      "5  0.0  0.0  1.0\n"
     ]
    }
   ],
   "source": [
    "# Usar value_counts en un DataFrame aplicant-ho a cada columna, per fer, per exemple, un histograma a posteriori\n",
    "\n",
    "data = pd.DataFrame({\"Qu1\": [1, 3, 4, 3, 4], \"Qu2\": [2, 3, 1, 2, 3], \"Qu3\": [1, 5, 2, 4, 4]})\n",
    "print(data)\n",
    "\n",
    "compt = data.apply(pd.value_counts).fillna(0) # fillna: Si algun valor només està en una columna i per tant en les altres surt NaN ho omplirem per 0.\n",
    "\n",
    "print(compt)"
   ]
  },
  {
   "cell_type": "markdown",
   "metadata": {},
   "source": [
    "### Correlació i covariància"
   ]
  },
  {
   "cell_type": "code",
   "execution_count": 57,
   "metadata": {},
   "outputs": [],
   "source": [
    "import pandas_datareader.data as web"
   ]
  },
  {
   "cell_type": "code",
   "execution_count": 62,
   "metadata": {},
   "outputs": [
    {
     "name": "stdout",
     "output_type": "stream",
     "text": [
      "                AAPL       IBM      MSFT      GOOG\n",
      "Date                                              \n",
      "2022-08-19 -0.015102 -0.005034 -0.013854 -0.022671\n",
      "2022-08-22 -0.023029 -0.020380 -0.029355 -0.025821\n",
      "2022-08-23 -0.002029 -0.005976 -0.004716 -0.002607\n",
      "2022-08-24  0.001794 -0.011207 -0.002351 -0.000610\n",
      "2022-08-25  0.007555  0.004916 -0.000073  0.013949\n"
     ]
    }
   ],
   "source": [
    "all_data = {ticker: web.get_data_yahoo(ticker) for ticker in [\"AAPL\", \"IBM\", \"MSFT\", \"GOOG\"]}\n",
    "\n",
    "price = pd.DataFrame({ticker: data[\"Adj Close\"] for ticker, data in all_data.items()})\n",
    "\n",
    "volume = pd.DataFrame({ticker: data[\"Volume\"] for ticker, data in all_data.items()})\n",
    "\n",
    "returns = price.pct_change() # Compute percent changes of the prices (it's a time series operation)\n",
    "\n",
    "print(returns.tail())"
   ]
  },
  {
   "cell_type": "code",
   "execution_count": 67,
   "metadata": {},
   "outputs": [
    {
     "name": "stdout",
     "output_type": "stream",
     "text": [
      "          AAPL       IBM      MSFT      GOOG\n",
      "AAPL  1.000000  0.436557  0.760095  0.685282\n",
      "IBM   0.436557  1.000000  0.476538  0.444079\n",
      "MSFT  0.760095  0.476538  1.000000  0.787131\n",
      "GOOG  0.685282  0.444079  0.787131  1.000000\n"
     ]
    },
    {
     "data": {
      "text/plain": [
       "AAPL    0.436557\n",
       "IBM     1.000000\n",
       "MSFT    0.476538\n",
       "GOOG    0.444079\n",
       "dtype: float64"
      ]
     },
     "execution_count": 67,
     "metadata": {},
     "output_type": "execute_result"
    }
   ],
   "source": [
    "## Correlació/Covariància entre dues columnes, és a dir, dues Series, alineades per l'índex de les files\n",
    "\n",
    "returns[\"MSFT\"].corr(returns[\"IBM\"])  # equivalent returns.MSFT.corr(returns.IBM) perquè són Python attributes\n",
    "returns[\"MSFT\"].cov(returns[\"IBM\"])\n",
    "\n",
    "# Si volem la taula relacional de totes\n",
    "print(returns.corr())\n",
    "\n",
    "# Si volem la correlació/covariància entre una columna(o fila) del DataFrame i una altra Serie o DataFrame, alineats pels índexs:\n",
    "\n",
    "returns.corrwith(returns.IBM) # Correlació del DataFrame anterior amb la Serie IBM."
   ]
  }
 ],
 "metadata": {
  "kernelspec": {
   "display_name": "Python 3.8.9 64-bit",
   "language": "python",
   "name": "python3"
  },
  "language_info": {
   "codemirror_mode": {
    "name": "ipython",
    "version": 3
   },
   "file_extension": ".py",
   "mimetype": "text/x-python",
   "name": "python",
   "nbconvert_exporter": "python",
   "pygments_lexer": "ipython3",
   "version": "3.8.9"
  },
  "orig_nbformat": 4,
  "vscode": {
   "interpreter": {
    "hash": "31f2aee4e71d21fbe5cf8b01ff0e069b9275f58929596ceb00d14d90e3e16cd6"
   }
  }
 },
 "nbformat": 4,
 "nbformat_minor": 2
}
